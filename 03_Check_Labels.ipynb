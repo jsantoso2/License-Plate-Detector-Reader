{
 "cells": [
  {
   "cell_type": "code",
   "execution_count": 1,
   "metadata": {},
   "outputs": [],
   "source": [
    "import os"
   ]
  },
  {
   "cell_type": "markdown",
   "metadata": {},
   "source": [
    "## Rename all files to .jpeg and unique names"
   ]
  },
  {
   "cell_type": "code",
   "execution_count": 2,
   "metadata": {},
   "outputs": [],
   "source": [
    "val_files = os.listdir('dataset/val')"
   ]
  },
  {
   "cell_type": "code",
   "execution_count": 3,
   "metadata": {},
   "outputs": [],
   "source": [
    "for elem in val_files:\n",
    "    filename = elem.split('_')\n",
    "    ext = filename[1].split('.')[1]\n",
    "    if ext == 'jpeg':\n",
    "        ext = 'jpg'\n",
    "    os.rename('dataset/val/' + elem, 'dataset/val/abcdefgh_' + filename[1].split('.')[0] + '.' + ext)"
   ]
  },
  {
   "cell_type": "code",
   "execution_count": 4,
   "metadata": {},
   "outputs": [],
   "source": [
    "train_files = os.listdir('dataset/train')"
   ]
  },
  {
   "cell_type": "code",
   "execution_count": 5,
   "metadata": {},
   "outputs": [],
   "source": [
    "for elem in train_files:\n",
    "    filename = elem.split('_')\n",
    "    ext = filename[1].split('.')[1]\n",
    "    if ext == 'jpeg':\n",
    "        ext = 'jpg'\n",
    "    os.rename('dataset/train/' + elem, 'dataset/train/abcdefgh_' + filename[1].split('.')[0] + '.' + ext)"
   ]
  },
  {
   "cell_type": "markdown",
   "metadata": {},
   "source": [
    "## Perform Check"
   ]
  },
  {
   "cell_type": "code",
   "execution_count": 6,
   "metadata": {},
   "outputs": [],
   "source": [
    "val_files = os.listdir('dataset/val')\n",
    "val_imgs = [i for i in val_files if '.jpg' in i]\n",
    "val_labels = [i for i in val_files if '.txt' in i]"
   ]
  },
  {
   "cell_type": "code",
   "execution_count": 7,
   "metadata": {},
   "outputs": [
    {
     "name": "stdout",
     "output_type": "stream",
     "text": [
      "len val_files:  404\n",
      "len val_imgs:  202\n",
      "len val_labels:  202\n"
     ]
    }
   ],
   "source": [
    "print('len val_files: ', len(val_files))\n",
    "print('len val_imgs: ', len(val_imgs))\n",
    "print('len val_labels: ', len(val_labels))"
   ]
  },
  {
   "cell_type": "code",
   "execution_count": 8,
   "metadata": {
    "scrolled": true
   },
   "outputs": [],
   "source": [
    "assert len(val_files) / 2 == len(val_imgs)\n",
    "assert len(val_files) / 2 == len(val_labels)"
   ]
  },
  {
   "cell_type": "code",
   "execution_count": 9,
   "metadata": {},
   "outputs": [
    {
     "name": "stdout",
     "output_type": "stream",
     "text": [
      "Val all clean\n"
     ]
    }
   ],
   "source": [
    "# check every file has labels\n",
    "for elem in val_imgs:\n",
    "    filename = elem.split('.')[0]\n",
    "    if str(filename + '.txt') not in val_labels:\n",
    "        print(filename + ' labels not exist')\n",
    "    else:\n",
    "        labelfile = open('dataset/val/' + str(filename + '.txt'), 'r')\n",
    "        contents = labelfile.readlines()\n",
    "        if len(contents) == 0:\n",
    "            print('Lables empty for ', filename)\n",
    "        labelfile.close()\n",
    "\n",
    "print('Val all clean')"
   ]
  },
  {
   "cell_type": "code",
   "execution_count": 10,
   "metadata": {},
   "outputs": [],
   "source": [
    "train_files = os.listdir('dataset/train')\n",
    "train_imgs = [i for i in train_files if '.jpg' in i]\n",
    "train_labels = [i for i in train_files if '.txt' in i]"
   ]
  },
  {
   "cell_type": "code",
   "execution_count": 11,
   "metadata": {},
   "outputs": [
    {
     "name": "stdout",
     "output_type": "stream",
     "text": [
      "len train_files:  2944\n",
      "len train_imgs:  1472\n",
      "len train_labels:  1472\n"
     ]
    }
   ],
   "source": [
    "print('len train_files: ', len(train_files))\n",
    "print('len train_imgs: ', len(train_imgs))\n",
    "print('len train_labels: ', len(train_labels))"
   ]
  },
  {
   "cell_type": "code",
   "execution_count": 12,
   "metadata": {},
   "outputs": [],
   "source": [
    "assert len(train_files) / 2 == len(train_imgs)\n",
    "assert len(train_files) / 2 == len(train_labels)"
   ]
  },
  {
   "cell_type": "code",
   "execution_count": 13,
   "metadata": {},
   "outputs": [
    {
     "name": "stdout",
     "output_type": "stream",
     "text": [
      "Train all clean\n"
     ]
    }
   ],
   "source": [
    "# check every file has labels\n",
    "for elem in train_imgs:\n",
    "    filename = elem.split('.')[0]\n",
    "    if str(filename + '.txt') not in train_labels:\n",
    "        print(filename + ' labels not exist')\n",
    "    else:\n",
    "        labelfile = open('dataset/train/' + str(filename + '.txt'), 'r')\n",
    "        contents = labelfile.readlines()\n",
    "        if len(contents) == 0:\n",
    "            print('Lables empty for ', filename)\n",
    "        labelfile.close()\n",
    "\n",
    "print('Train all clean')"
   ]
  },
  {
   "cell_type": "markdown",
   "metadata": {},
   "source": [
    "## Generate Train.txt and Val.txt"
   ]
  },
  {
   "cell_type": "code",
   "execution_count": 14,
   "metadata": {},
   "outputs": [],
   "source": [
    "train_path = os.listdir('dataset/train')\n",
    "val_path = os.listdir('dataset/val')"
   ]
  },
  {
   "cell_type": "code",
   "execution_count": 15,
   "metadata": {},
   "outputs": [],
   "source": [
    "train_path = ['/content/darknet/data/train/' + str(elem) + '\\n' for elem in train_path if '.jpg' in elem]\n",
    "val_path = ['/content/darknet/data/val/' + str(elem) + '\\n' for elem in val_path if '.jpg' in elem]"
   ]
  },
  {
   "cell_type": "code",
   "execution_count": 16,
   "metadata": {},
   "outputs": [],
   "source": [
    "file = open('dataset/train.txt', 'w', encoding = 'utf-8')\n",
    "file.writelines(train_path)\n",
    "file.close()\n",
    "\n",
    "file = open('dataset/val.txt', 'w', encoding = 'utf-8')\n",
    "file.writelines(val_path)\n",
    "file.close()"
   ]
  },
  {
   "cell_type": "code",
   "execution_count": 17,
   "metadata": {},
   "outputs": [
    {
     "data": {
      "text/plain": [
       "['/content/darknet/data/val/abcdefgh_05472.jpg\\n',\n",
       " '/content/darknet/data/val/abcdefgh_05473.jpg\\n',\n",
       " '/content/darknet/data/val/abcdefgh_05474.jpg\\n',\n",
       " '/content/darknet/data/val/abcdefgh_05475.jpg\\n',\n",
       " '/content/darknet/data/val/abcdefgh_05476.jpg\\n',\n",
       " '/content/darknet/data/val/abcdefgh_05477.jpg\\n',\n",
       " '/content/darknet/data/val/abcdefgh_05478.jpg\\n',\n",
       " '/content/darknet/data/val/abcdefgh_05479.jpg\\n',\n",
       " '/content/darknet/data/val/abcdefgh_05480.jpg\\n',\n",
       " '/content/darknet/data/val/abcdefgh_05481.jpg\\n',\n",
       " '/content/darknet/data/val/abcdefgh_05482.jpg\\n',\n",
       " '/content/darknet/data/val/abcdefgh_05483.jpg\\n',\n",
       " '/content/darknet/data/val/abcdefgh_05484.jpg\\n',\n",
       " '/content/darknet/data/val/abcdefgh_05485.jpg\\n',\n",
       " '/content/darknet/data/val/abcdefgh_05486.jpg\\n',\n",
       " '/content/darknet/data/val/abcdefgh_05487.jpg\\n',\n",
       " '/content/darknet/data/val/abcdefgh_05488.jpg\\n',\n",
       " '/content/darknet/data/val/abcdefgh_05489.jpg\\n',\n",
       " '/content/darknet/data/val/abcdefgh_05490.jpg\\n',\n",
       " '/content/darknet/data/val/abcdefgh_05491.jpg\\n',\n",
       " '/content/darknet/data/val/abcdefgh_05492.jpg\\n',\n",
       " '/content/darknet/data/val/abcdefgh_05493.jpg\\n',\n",
       " '/content/darknet/data/val/abcdefgh_05494.jpg\\n',\n",
       " '/content/darknet/data/val/abcdefgh_05495.jpg\\n',\n",
       " '/content/darknet/data/val/abcdefgh_05496.jpg\\n',\n",
       " '/content/darknet/data/val/abcdefgh_05497.jpg\\n',\n",
       " '/content/darknet/data/val/abcdefgh_05498.jpg\\n',\n",
       " '/content/darknet/data/val/abcdefgh_05499.jpg\\n',\n",
       " '/content/darknet/data/val/abcdefgh_05500.jpg\\n',\n",
       " '/content/darknet/data/val/abcdefgh_05501.jpg\\n',\n",
       " '/content/darknet/data/val/abcdefgh_101.jpg\\n',\n",
       " '/content/darknet/data/val/abcdefgh_1014.jpg\\n',\n",
       " '/content/darknet/data/val/abcdefgh_1026.jpg\\n',\n",
       " '/content/darknet/data/val/abcdefgh_1030.jpg\\n',\n",
       " '/content/darknet/data/val/abcdefgh_1032.jpg\\n',\n",
       " '/content/darknet/data/val/abcdefgh_1033.jpg\\n',\n",
       " '/content/darknet/data/val/abcdefgh_1044.jpg\\n',\n",
       " '/content/darknet/data/val/abcdefgh_1062.jpg\\n',\n",
       " '/content/darknet/data/val/abcdefgh_1065.jpg\\n',\n",
       " '/content/darknet/data/val/abcdefgh_1072.jpg\\n',\n",
       " '/content/darknet/data/val/abcdefgh_1076.jpg\\n',\n",
       " '/content/darknet/data/val/abcdefgh_1077.jpg\\n',\n",
       " '/content/darknet/data/val/abcdefgh_108.jpg\\n',\n",
       " '/content/darknet/data/val/abcdefgh_1082.jpg\\n',\n",
       " '/content/darknet/data/val/abcdefgh_11.jpg\\n',\n",
       " '/content/darknet/data/val/abcdefgh_1105.jpg\\n',\n",
       " '/content/darknet/data/val/abcdefgh_1106.jpg\\n',\n",
       " '/content/darknet/data/val/abcdefgh_1110.jpg\\n',\n",
       " '/content/darknet/data/val/abcdefgh_1111.jpg\\n',\n",
       " '/content/darknet/data/val/abcdefgh_112.jpg\\n',\n",
       " '/content/darknet/data/val/abcdefgh_1128.jpg\\n',\n",
       " '/content/darknet/data/val/abcdefgh_1140.jpg\\n',\n",
       " '/content/darknet/data/val/abcdefgh_1147.jpg\\n',\n",
       " '/content/darknet/data/val/abcdefgh_115.jpg\\n',\n",
       " '/content/darknet/data/val/abcdefgh_1157.jpg\\n',\n",
       " '/content/darknet/data/val/abcdefgh_1161.jpg\\n',\n",
       " '/content/darknet/data/val/abcdefgh_1163.jpg\\n',\n",
       " '/content/darknet/data/val/abcdefgh_1170.jpg\\n',\n",
       " '/content/darknet/data/val/abcdefgh_122.jpg\\n',\n",
       " '/content/darknet/data/val/abcdefgh_13.jpg\\n',\n",
       " '/content/darknet/data/val/abcdefgh_134.jpg\\n',\n",
       " '/content/darknet/data/val/abcdefgh_136.jpg\\n',\n",
       " '/content/darknet/data/val/abcdefgh_14.jpg\\n',\n",
       " '/content/darknet/data/val/abcdefgh_142.jpg\\n',\n",
       " '/content/darknet/data/val/abcdefgh_153.jpg\\n',\n",
       " '/content/darknet/data/val/abcdefgh_158.jpg\\n',\n",
       " '/content/darknet/data/val/abcdefgh_168.jpg\\n',\n",
       " '/content/darknet/data/val/abcdefgh_17.jpg\\n',\n",
       " '/content/darknet/data/val/abcdefgh_173.jpg\\n',\n",
       " '/content/darknet/data/val/abcdefgh_178.jpg\\n',\n",
       " '/content/darknet/data/val/abcdefgh_179.jpg\\n',\n",
       " '/content/darknet/data/val/abcdefgh_185.jpg\\n',\n",
       " '/content/darknet/data/val/abcdefgh_196.jpg\\n',\n",
       " '/content/darknet/data/val/abcdefgh_211.jpg\\n',\n",
       " '/content/darknet/data/val/abcdefgh_22.jpg\\n',\n",
       " '/content/darknet/data/val/abcdefgh_226.jpg\\n',\n",
       " '/content/darknet/data/val/abcdefgh_23.jpg\\n',\n",
       " '/content/darknet/data/val/abcdefgh_237.jpg\\n',\n",
       " '/content/darknet/data/val/abcdefgh_241.jpg\\n',\n",
       " '/content/darknet/data/val/abcdefgh_243.jpg\\n',\n",
       " '/content/darknet/data/val/abcdefgh_248.jpg\\n',\n",
       " '/content/darknet/data/val/abcdefgh_255.jpg\\n',\n",
       " '/content/darknet/data/val/abcdefgh_257.jpg\\n',\n",
       " '/content/darknet/data/val/abcdefgh_262.jpg\\n',\n",
       " '/content/darknet/data/val/abcdefgh_271.jpg\\n',\n",
       " '/content/darknet/data/val/abcdefgh_272.jpg\\n',\n",
       " '/content/darknet/data/val/abcdefgh_283.jpg\\n',\n",
       " '/content/darknet/data/val/abcdefgh_298.jpg\\n',\n",
       " '/content/darknet/data/val/abcdefgh_300.jpg\\n',\n",
       " '/content/darknet/data/val/abcdefgh_303.jpg\\n',\n",
       " '/content/darknet/data/val/abcdefgh_304.jpg\\n',\n",
       " '/content/darknet/data/val/abcdefgh_31.jpg\\n',\n",
       " '/content/darknet/data/val/abcdefgh_313.jpg\\n',\n",
       " '/content/darknet/data/val/abcdefgh_316.jpg\\n',\n",
       " '/content/darknet/data/val/abcdefgh_318.jpg\\n',\n",
       " '/content/darknet/data/val/abcdefgh_326.jpg\\n',\n",
       " '/content/darknet/data/val/abcdefgh_327.jpg\\n',\n",
       " '/content/darknet/data/val/abcdefgh_329.jpg\\n',\n",
       " '/content/darknet/data/val/abcdefgh_339.jpg\\n',\n",
       " '/content/darknet/data/val/abcdefgh_34.jpg\\n',\n",
       " '/content/darknet/data/val/abcdefgh_348.jpg\\n',\n",
       " '/content/darknet/data/val/abcdefgh_353.jpg\\n',\n",
       " '/content/darknet/data/val/abcdefgh_366.jpg\\n',\n",
       " '/content/darknet/data/val/abcdefgh_374.jpg\\n',\n",
       " '/content/darknet/data/val/abcdefgh_38.jpg\\n',\n",
       " '/content/darknet/data/val/abcdefgh_382.jpg\\n',\n",
       " '/content/darknet/data/val/abcdefgh_390.jpg\\n',\n",
       " '/content/darknet/data/val/abcdefgh_40.jpg\\n',\n",
       " '/content/darknet/data/val/abcdefgh_402.jpg\\n',\n",
       " '/content/darknet/data/val/abcdefgh_403.jpg\\n',\n",
       " '/content/darknet/data/val/abcdefgh_405.jpg\\n',\n",
       " '/content/darknet/data/val/abcdefgh_422.jpg\\n',\n",
       " '/content/darknet/data/val/abcdefgh_424.jpg\\n',\n",
       " '/content/darknet/data/val/abcdefgh_427.jpg\\n',\n",
       " '/content/darknet/data/val/abcdefgh_429.jpg\\n',\n",
       " '/content/darknet/data/val/abcdefgh_445.jpg\\n',\n",
       " '/content/darknet/data/val/abcdefgh_453.jpg\\n',\n",
       " '/content/darknet/data/val/abcdefgh_454.jpg\\n',\n",
       " '/content/darknet/data/val/abcdefgh_456.jpg\\n',\n",
       " '/content/darknet/data/val/abcdefgh_460.jpg\\n',\n",
       " '/content/darknet/data/val/abcdefgh_461.jpg\\n',\n",
       " '/content/darknet/data/val/abcdefgh_471.jpg\\n',\n",
       " '/content/darknet/data/val/abcdefgh_476.jpg\\n',\n",
       " '/content/darknet/data/val/abcdefgh_477.jpg\\n',\n",
       " '/content/darknet/data/val/abcdefgh_478.jpg\\n',\n",
       " '/content/darknet/data/val/abcdefgh_479.jpg\\n',\n",
       " '/content/darknet/data/val/abcdefgh_48.jpg\\n',\n",
       " '/content/darknet/data/val/abcdefgh_480.jpg\\n',\n",
       " '/content/darknet/data/val/abcdefgh_482.jpg\\n',\n",
       " '/content/darknet/data/val/abcdefgh_483.jpg\\n',\n",
       " '/content/darknet/data/val/abcdefgh_484.jpg\\n',\n",
       " '/content/darknet/data/val/abcdefgh_485.jpg\\n',\n",
       " '/content/darknet/data/val/abcdefgh_498.jpg\\n',\n",
       " '/content/darknet/data/val/abcdefgh_503.jpg\\n',\n",
       " '/content/darknet/data/val/abcdefgh_506.jpg\\n',\n",
       " '/content/darknet/data/val/abcdefgh_515.jpg\\n',\n",
       " '/content/darknet/data/val/abcdefgh_519.jpg\\n',\n",
       " '/content/darknet/data/val/abcdefgh_535.jpg\\n',\n",
       " '/content/darknet/data/val/abcdefgh_537.jpg\\n',\n",
       " '/content/darknet/data/val/abcdefgh_54.jpg\\n',\n",
       " '/content/darknet/data/val/abcdefgh_540.jpg\\n',\n",
       " '/content/darknet/data/val/abcdefgh_547.jpg\\n',\n",
       " '/content/darknet/data/val/abcdefgh_555.jpg\\n',\n",
       " '/content/darknet/data/val/abcdefgh_567.jpg\\n',\n",
       " '/content/darknet/data/val/abcdefgh_577.jpg\\n',\n",
       " '/content/darknet/data/val/abcdefgh_60.jpg\\n',\n",
       " '/content/darknet/data/val/abcdefgh_602.jpg\\n',\n",
       " '/content/darknet/data/val/abcdefgh_608.jpg\\n',\n",
       " '/content/darknet/data/val/abcdefgh_612.jpg\\n',\n",
       " '/content/darknet/data/val/abcdefgh_614.jpg\\n',\n",
       " '/content/darknet/data/val/abcdefgh_617.jpg\\n',\n",
       " '/content/darknet/data/val/abcdefgh_630.jpg\\n',\n",
       " '/content/darknet/data/val/abcdefgh_648.jpg\\n',\n",
       " '/content/darknet/data/val/abcdefgh_656.jpg\\n',\n",
       " '/content/darknet/data/val/abcdefgh_66.jpg\\n',\n",
       " '/content/darknet/data/val/abcdefgh_675.jpg\\n',\n",
       " '/content/darknet/data/val/abcdefgh_685.jpg\\n',\n",
       " '/content/darknet/data/val/abcdefgh_7.jpg\\n',\n",
       " '/content/darknet/data/val/abcdefgh_700.jpg\\n',\n",
       " '/content/darknet/data/val/abcdefgh_705.jpg\\n',\n",
       " '/content/darknet/data/val/abcdefgh_707.jpg\\n',\n",
       " '/content/darknet/data/val/abcdefgh_71.jpg\\n',\n",
       " '/content/darknet/data/val/abcdefgh_720.jpg\\n',\n",
       " '/content/darknet/data/val/abcdefgh_725.jpg\\n',\n",
       " '/content/darknet/data/val/abcdefgh_726.jpg\\n',\n",
       " '/content/darknet/data/val/abcdefgh_739.jpg\\n',\n",
       " '/content/darknet/data/val/abcdefgh_746.jpg\\n',\n",
       " '/content/darknet/data/val/abcdefgh_748.jpg\\n',\n",
       " '/content/darknet/data/val/abcdefgh_753.jpg\\n',\n",
       " '/content/darknet/data/val/abcdefgh_754.jpg\\n',\n",
       " '/content/darknet/data/val/abcdefgh_758.jpg\\n',\n",
       " '/content/darknet/data/val/abcdefgh_762.jpg\\n',\n",
       " '/content/darknet/data/val/abcdefgh_763.jpg\\n',\n",
       " '/content/darknet/data/val/abcdefgh_764.jpg\\n',\n",
       " '/content/darknet/data/val/abcdefgh_777.jpg\\n',\n",
       " '/content/darknet/data/val/abcdefgh_783.jpg\\n',\n",
       " '/content/darknet/data/val/abcdefgh_791.jpg\\n',\n",
       " '/content/darknet/data/val/abcdefgh_798.jpg\\n',\n",
       " '/content/darknet/data/val/abcdefgh_813.jpg\\n',\n",
       " '/content/darknet/data/val/abcdefgh_817.jpg\\n',\n",
       " '/content/darknet/data/val/abcdefgh_825.jpg\\n',\n",
       " '/content/darknet/data/val/abcdefgh_827.jpg\\n',\n",
       " '/content/darknet/data/val/abcdefgh_849.jpg\\n',\n",
       " '/content/darknet/data/val/abcdefgh_851.jpg\\n',\n",
       " '/content/darknet/data/val/abcdefgh_878.jpg\\n',\n",
       " '/content/darknet/data/val/abcdefgh_880.jpg\\n',\n",
       " '/content/darknet/data/val/abcdefgh_882.jpg\\n',\n",
       " '/content/darknet/data/val/abcdefgh_900.jpg\\n',\n",
       " '/content/darknet/data/val/abcdefgh_903.jpg\\n',\n",
       " '/content/darknet/data/val/abcdefgh_909.jpg\\n',\n",
       " '/content/darknet/data/val/abcdefgh_910.jpg\\n',\n",
       " '/content/darknet/data/val/abcdefgh_913.jpg\\n',\n",
       " '/content/darknet/data/val/abcdefgh_919.jpg\\n',\n",
       " '/content/darknet/data/val/abcdefgh_922.jpg\\n',\n",
       " '/content/darknet/data/val/abcdefgh_923.jpg\\n',\n",
       " '/content/darknet/data/val/abcdefgh_929.jpg\\n',\n",
       " '/content/darknet/data/val/abcdefgh_93.jpg\\n',\n",
       " '/content/darknet/data/val/abcdefgh_934.jpg\\n',\n",
       " '/content/darknet/data/val/abcdefgh_954.jpg\\n',\n",
       " '/content/darknet/data/val/abcdefgh_958.jpg\\n',\n",
       " '/content/darknet/data/val/abcdefgh_979.jpg\\n',\n",
       " '/content/darknet/data/val/abcdefgh_992.jpg\\n']"
      ]
     },
     "execution_count": 17,
     "metadata": {},
     "output_type": "execute_result"
    }
   ],
   "source": [
    "val_path"
   ]
  },
  {
   "cell_type": "markdown",
   "metadata": {},
   "source": [
    "## Convert all .txt files to utf-8 encoding"
   ]
  },
  {
   "cell_type": "code",
   "execution_count": 18,
   "metadata": {},
   "outputs": [],
   "source": [
    "val_labels = [i for i in val_files if '.txt' in i]\n",
    "train_labels = [i for i in train_files if '.txt' in i]"
   ]
  },
  {
   "cell_type": "code",
   "execution_count": 19,
   "metadata": {},
   "outputs": [],
   "source": [
    "for elem in train_labels:\n",
    "    file = open('dataset/train/' + elem, 'r')\n",
    "    contents = file.readlines()\n",
    "    file.close()\n",
    "\n",
    "    outfile = open('dataset/train/' + elem, 'w', encoding = 'utf-8')\n",
    "    outfile.writelines(contents)\n",
    "    outfile.close()"
   ]
  },
  {
   "cell_type": "code",
   "execution_count": 20,
   "metadata": {},
   "outputs": [],
   "source": [
    "for elem in val_labels:\n",
    "    file = open('dataset/val/' + elem, 'r')\n",
    "    contents = file.readlines()\n",
    "    file.close()\n",
    "\n",
    "    outfile = open('dataset/val/' + elem, 'w', encoding = 'utf-8')\n",
    "    outfile.writelines(contents)\n",
    "    outfile.close()"
   ]
  }
 ],
 "metadata": {
  "kernelspec": {
   "display_name": "Python 3",
   "language": "python",
   "name": "python3"
  },
  "language_info": {
   "codemirror_mode": {
    "name": "ipython",
    "version": 3
   },
   "file_extension": ".py",
   "mimetype": "text/x-python",
   "name": "python",
   "nbconvert_exporter": "python",
   "pygments_lexer": "ipython3",
   "version": "3.7.6"
  }
 },
 "nbformat": 4,
 "nbformat_minor": 4
}
