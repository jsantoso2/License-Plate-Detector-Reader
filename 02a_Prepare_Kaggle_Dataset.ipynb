{
 "cells": [
  {
   "cell_type": "code",
   "execution_count": 1,
   "metadata": {},
   "outputs": [],
   "source": [
    "import os\n",
    "import pandas as pd\n",
    "import numpy as np\n",
    "from xml.dom import minidom\n",
    "import shutil"
   ]
  },
  {
   "cell_type": "code",
   "execution_count": 2,
   "metadata": {},
   "outputs": [],
   "source": [
    "kaggle_labels_train = os.listdir('kaggle dataset/annotations/train')\n",
    "kaggle_imgs_train = os.listdir('kaggle dataset/images/train')\n",
    "kaggle_labels_val = os.listdir('kaggle dataset/annotations/test')\n",
    "kaggle_imgs_val = os.listdir('kaggle dataset/images/test')"
   ]
  },
  {
   "cell_type": "code",
   "execution_count": 3,
   "metadata": {},
   "outputs": [],
   "source": [
    "# convert all original images to .jpeg\n",
    "for elem in kaggle_imgs_train:\n",
    "    base_file, ext = os.path.splitext(elem)\n",
    "    os.rename('kaggle dataset/images/train/' + elem, 'kaggle dataset/images/train/' + base_file + \".jpeg\")\n",
    "\n",
    "for elem in kaggle_imgs_val:\n",
    "    base_file, ext = os.path.splitext(elem)\n",
    "    os.rename('kaggle dataset/images/test/' + elem, 'kaggle dataset/images/test/' + base_file + \".jpeg\")"
   ]
  },
  {
   "cell_type": "code",
   "execution_count": 30,
   "metadata": {},
   "outputs": [],
   "source": [
    "counter = 0\n",
    "\n",
    "for elem in kaggle_labels_train:\n",
    "    mydoc = minidom.parse('kaggle dataset/annotations/train/' + elem)\n",
    "    imwidth = mydoc.getElementsByTagName('size')[0].getElementsByTagName('width')[0].firstChild.nodeValue\n",
    "    imheight = mydoc.getElementsByTagName('size')[0].getElementsByTagName('height')[0].firstChild.nodeValue\n",
    "    \n",
    "    converted_labels = []\n",
    "    \n",
    "    for obj in mydoc.getElementsByTagName('object'):\n",
    "        xmin = obj.getElementsByTagName('bndbox')[0].getElementsByTagName('xmin')[0].firstChild.nodeValue\n",
    "        ymin = obj.getElementsByTagName('bndbox')[0].getElementsByTagName('ymin')[0].firstChild.nodeValue\n",
    "        xmax = obj.getElementsByTagName('bndbox')[0].getElementsByTagName('xmax')[0].firstChild.nodeValue\n",
    "        ymax = obj.getElementsByTagName('bndbox')[0].getElementsByTagName('ymax')[0].firstChild.nodeValue\n",
    "            \n",
    "        boxwidth = round((float(xmax) - float(xmin)) / float(imwidth), 4)\n",
    "        boxheight = round((float(ymax) - float(ymin)) / float(imheight), 4)\n",
    "        xcenter = round(((float(xmin) + float(xmax))/2) / float(imwidth) , 4)\n",
    "        ycenter = round(((float(ymin) + float(ymax))/2) / float(imheight), 4)\n",
    "        \n",
    "        converted_labels.append('0 ' + str(xcenter) + ' ' + str(ycenter) + ' ' + str(boxwidth) + ' ' + str(boxheight) + '\\n')\n",
    "        \n",
    "    base_file, ext = os.path.splitext(elem)\n",
    "    shutil.copyfile('kaggle dataset/images/train/' + base_file + '.jpeg', 'dataset/train/images_0' + str(5000 + counter) + '.jpeg')    \n",
    "    outfile = open('dataset/train/images_0' + str(5000 + counter) + '.txt', 'w')\n",
    "    outfile.writelines(converted_labels)\n",
    "    outfile.close()\n",
    "    \n",
    "    counter += 1"
   ]
  },
  {
   "cell_type": "code",
   "execution_count": 31,
   "metadata": {},
   "outputs": [],
   "source": [
    "for elem in kaggle_labels_val:\n",
    "    mydoc = minidom.parse('kaggle dataset/annotations/test/' + elem)\n",
    "    imwidth = mydoc.getElementsByTagName('size')[0].getElementsByTagName('width')[0].firstChild.nodeValue\n",
    "    imheight = mydoc.getElementsByTagName('size')[0].getElementsByTagName('height')[0].firstChild.nodeValue\n",
    "    \n",
    "    converted_labels = []\n",
    "    \n",
    "    for obj in mydoc.getElementsByTagName('object'):\n",
    "        xmin = obj.getElementsByTagName('bndbox')[0].getElementsByTagName('xmin')[0].firstChild.nodeValue\n",
    "        ymin = obj.getElementsByTagName('bndbox')[0].getElementsByTagName('ymin')[0].firstChild.nodeValue\n",
    "        xmax = obj.getElementsByTagName('bndbox')[0].getElementsByTagName('xmax')[0].firstChild.nodeValue\n",
    "        ymax = obj.getElementsByTagName('bndbox')[0].getElementsByTagName('ymax')[0].firstChild.nodeValue\n",
    "            \n",
    "        boxwidth = round((float(xmax) - float(xmin)) / float(imwidth), 4)\n",
    "        boxheight = round((float(ymax) - float(ymin)) / float(imheight), 4)\n",
    "        xcenter = round(((float(xmin) + float(xmax))/2) / float(imwidth) , 4)\n",
    "        ycenter = round(((float(ymin) + float(ymax))/2) / float(imheight), 4)\n",
    "        \n",
    "        converted_labels.append('0 ' + str(xcenter) + ' ' + str(ycenter) + ' ' + str(boxwidth) + ' ' + str(boxheight) + '\\n')\n",
    "        \n",
    "    base_file, ext = os.path.splitext(elem)\n",
    "    shutil.copyfile('kaggle dataset/images/test/' + base_file + '.jpeg', 'dataset/val/images_0' + str(5000 + counter) + '.jpeg')    \n",
    "    outfile = open('dataset/val/images_0' + str(5000 + counter) + '.txt', 'w')\n",
    "    outfile.writelines(converted_labels)\n",
    "    outfile.close()\n",
    "    \n",
    "    counter += 1"
   ]
  },
  {
   "cell_type": "code",
   "execution_count": 3,
   "metadata": {},
   "outputs": [],
   "source": [
    "counter = 0\n",
    "orig_filename = []\n",
    "converted_filename = []\n",
    "plate_numbers = []\n",
    "expiry = []\n",
    "\n",
    "for elem in kaggle_labels_train:\n",
    "    base_file, ext = os.path.splitext(elem)\n",
    "    if len(base_file.split('.')) == 2:\n",
    "        orig_filename.append(str(base_file) + '.jpeg')\n",
    "        converted_filename.append(str('abcdefgh_0' + str(5000 + counter) + '.jpg'))\n",
    "        splits = base_file.split('.')[1].split('-')\n",
    "        plate_numbers.append(splits[0])\n",
    "        expiry.append(splits[1] + '-' + splits[2])\n",
    "    else:\n",
    "        orig_filename.append(str(base_file) + '.jpeg')\n",
    "        converted_filename.append(str('abcdefgh_0' + str(5000 + counter) + '.jpg'))\n",
    "        plate_numbers.append(None)\n",
    "        expiry.append(None)\n",
    "    counter += 1"
   ]
  },
  {
   "cell_type": "code",
   "execution_count": 4,
   "metadata": {},
   "outputs": [],
   "source": [
    "train_df = pd.DataFrame()\n",
    "train_df['orig_filename'] = orig_filename\n",
    "train_df['converted_filname'] = converted_filename\n",
    "train_df['plate_numbers'] = plate_numbers\n",
    "train_df['expiry'] = expiry"
   ]
  },
  {
   "cell_type": "code",
   "execution_count": 5,
   "metadata": {},
   "outputs": [
    {
     "data": {
      "text/html": [
       "<div>\n",
       "<style scoped>\n",
       "    .dataframe tbody tr th:only-of-type {\n",
       "        vertical-align: middle;\n",
       "    }\n",
       "\n",
       "    .dataframe tbody tr th {\n",
       "        vertical-align: top;\n",
       "    }\n",
       "\n",
       "    .dataframe thead th {\n",
       "        text-align: right;\n",
       "    }\n",
       "</style>\n",
       "<table border=\"1\" class=\"dataframe\">\n",
       "  <thead>\n",
       "    <tr style=\"text-align: right;\">\n",
       "      <th></th>\n",
       "      <th>orig_filename</th>\n",
       "      <th>converted_filname</th>\n",
       "      <th>plate_numbers</th>\n",
       "      <th>expiry</th>\n",
       "    </tr>\n",
       "  </thead>\n",
       "  <tbody>\n",
       "    <tr>\n",
       "      <th>0</th>\n",
       "      <td>1.E 3977 QM-09-19.jpeg</td>\n",
       "      <td>abcdefgh_05000.jpg</td>\n",
       "      <td>E 3977 QM</td>\n",
       "      <td>09-19</td>\n",
       "    </tr>\n",
       "    <tr>\n",
       "      <th>1</th>\n",
       "      <td>10.E 5894 SZ-09-17.jpeg</td>\n",
       "      <td>abcdefgh_05001.jpg</td>\n",
       "      <td>E 5894 SZ</td>\n",
       "      <td>09-17</td>\n",
       "    </tr>\n",
       "    <tr>\n",
       "      <th>2</th>\n",
       "      <td>100.E 6467 QW-09-20.jpeg</td>\n",
       "      <td>abcdefgh_05002.jpg</td>\n",
       "      <td>E 6467 QW</td>\n",
       "      <td>09-20</td>\n",
       "    </tr>\n",
       "    <tr>\n",
       "      <th>3</th>\n",
       "      <td>101.E 4604 PS-09-17.jpeg</td>\n",
       "      <td>abcdefgh_05003.jpg</td>\n",
       "      <td>E 4604 PS</td>\n",
       "      <td>09-17</td>\n",
       "    </tr>\n",
       "    <tr>\n",
       "      <th>4</th>\n",
       "      <td>102.E 6984 P-07-20.jpeg</td>\n",
       "      <td>abcdefgh_05004.jpg</td>\n",
       "      <td>E 6984 P</td>\n",
       "      <td>07-20</td>\n",
       "    </tr>\n",
       "  </tbody>\n",
       "</table>\n",
       "</div>"
      ],
      "text/plain": [
       "              orig_filename   converted_filname plate_numbers expiry\n",
       "0    1.E 3977 QM-09-19.jpeg  abcdefgh_05000.jpg     E 3977 QM  09-19\n",
       "1   10.E 5894 SZ-09-17.jpeg  abcdefgh_05001.jpg     E 5894 SZ  09-17\n",
       "2  100.E 6467 QW-09-20.jpeg  abcdefgh_05002.jpg     E 6467 QW  09-20\n",
       "3  101.E 4604 PS-09-17.jpeg  abcdefgh_05003.jpg     E 4604 PS  09-17\n",
       "4   102.E 6984 P-07-20.jpeg  abcdefgh_05004.jpg      E 6984 P  07-20"
      ]
     },
     "execution_count": 5,
     "metadata": {},
     "output_type": "execute_result"
    }
   ],
   "source": [
    "train_df.head()"
   ]
  },
  {
   "cell_type": "code",
   "execution_count": 6,
   "metadata": {},
   "outputs": [],
   "source": [
    "orig_filename = []\n",
    "converted_filename = []\n",
    "plate_numbers = []\n",
    "expiry = []\n",
    "\n",
    "for elem in kaggle_labels_val:\n",
    "    base_file, ext = os.path.splitext(elem)\n",
    "    if len(base_file.split('.')) == 2:\n",
    "        orig_filename.append(str(base_file) + '.jpeg')\n",
    "        converted_filename.append(str('abcdefgh_0' + str(5000 + counter) + '.jpg'))\n",
    "        splits = base_file.split('.')[1].split('-')\n",
    "        plate_numbers.append(splits[0])\n",
    "        expiry.append(splits[1] + '-' + splits[2])\n",
    "    else:\n",
    "        orig_filename.append(str(base_file) + '.jpeg')\n",
    "        converted_filename.append(str('abcdefgh_0' + str(5000 + counter) + '.jpg'))\n",
    "        plate_numbers.append(None)\n",
    "        expiry.append(None)\n",
    "    counter += 1"
   ]
  },
  {
   "cell_type": "code",
   "execution_count": 7,
   "metadata": {},
   "outputs": [],
   "source": [
    "val_df = pd.DataFrame()\n",
    "val_df['orig_filename'] = orig_filename\n",
    "val_df['converted_filname'] = converted_filename\n",
    "val_df['plate_numbers'] = plate_numbers\n",
    "val_df['expiry'] = expiry"
   ]
  },
  {
   "cell_type": "code",
   "execution_count": 8,
   "metadata": {},
   "outputs": [
    {
     "data": {
      "text/html": [
       "<div>\n",
       "<style scoped>\n",
       "    .dataframe tbody tr th:only-of-type {\n",
       "        vertical-align: middle;\n",
       "    }\n",
       "\n",
       "    .dataframe tbody tr th {\n",
       "        vertical-align: top;\n",
       "    }\n",
       "\n",
       "    .dataframe thead th {\n",
       "        text-align: right;\n",
       "    }\n",
       "</style>\n",
       "<table border=\"1\" class=\"dataframe\">\n",
       "  <thead>\n",
       "    <tr style=\"text-align: right;\">\n",
       "      <th></th>\n",
       "      <th>orig_filename</th>\n",
       "      <th>converted_filname</th>\n",
       "      <th>plate_numbers</th>\n",
       "      <th>expiry</th>\n",
       "    </tr>\n",
       "  </thead>\n",
       "  <tbody>\n",
       "    <tr>\n",
       "      <th>0</th>\n",
       "      <td>351.E 6730 RC-07-19.jpeg</td>\n",
       "      <td>abcdefgh_05472.jpg</td>\n",
       "      <td>E 6730 RC</td>\n",
       "      <td>07-19</td>\n",
       "    </tr>\n",
       "    <tr>\n",
       "      <th>1</th>\n",
       "      <td>352.E 5053 RG-09-20.jpeg</td>\n",
       "      <td>abcdefgh_05473.jpg</td>\n",
       "      <td>E 5053 RG</td>\n",
       "      <td>09-20</td>\n",
       "    </tr>\n",
       "    <tr>\n",
       "      <th>2</th>\n",
       "      <td>353.E 6270 SM-06-20.jpeg</td>\n",
       "      <td>abcdefgh_05474.jpg</td>\n",
       "      <td>E 6270 SM</td>\n",
       "      <td>06-20</td>\n",
       "    </tr>\n",
       "    <tr>\n",
       "      <th>3</th>\n",
       "      <td>354.E 6250 PAJ-02-22.jpeg</td>\n",
       "      <td>abcdefgh_05475.jpg</td>\n",
       "      <td>E 6250 PAJ</td>\n",
       "      <td>02-22</td>\n",
       "    </tr>\n",
       "    <tr>\n",
       "      <th>4</th>\n",
       "      <td>355.E 6547 PAF-09-21.jpeg</td>\n",
       "      <td>abcdefgh_05476.jpg</td>\n",
       "      <td>E 6547 PAF</td>\n",
       "      <td>09-21</td>\n",
       "    </tr>\n",
       "  </tbody>\n",
       "</table>\n",
       "</div>"
      ],
      "text/plain": [
       "               orig_filename   converted_filname plate_numbers expiry\n",
       "0   351.E 6730 RC-07-19.jpeg  abcdefgh_05472.jpg     E 6730 RC  07-19\n",
       "1   352.E 5053 RG-09-20.jpeg  abcdefgh_05473.jpg     E 5053 RG  09-20\n",
       "2   353.E 6270 SM-06-20.jpeg  abcdefgh_05474.jpg     E 6270 SM  06-20\n",
       "3  354.E 6250 PAJ-02-22.jpeg  abcdefgh_05475.jpg    E 6250 PAJ  02-22\n",
       "4  355.E 6547 PAF-09-21.jpeg  abcdefgh_05476.jpg    E 6547 PAF  09-21"
      ]
     },
     "execution_count": 8,
     "metadata": {},
     "output_type": "execute_result"
    }
   ],
   "source": [
    "val_df.head()"
   ]
  },
  {
   "cell_type": "code",
   "execution_count": 9,
   "metadata": {},
   "outputs": [],
   "source": [
    "train_df.to_csv('dataset/kaggle_convert_train.csv', index = False)\n",
    "val_df.to_csv('dataset/kaggle_convert_val.csv', index = False)"
   ]
  },
  {
   "cell_type": "code",
   "execution_count": null,
   "metadata": {},
   "outputs": [],
   "source": []
  }
 ],
 "metadata": {
  "kernelspec": {
   "display_name": "Python 3",
   "language": "python",
   "name": "python3"
  },
  "language_info": {
   "codemirror_mode": {
    "name": "ipython",
    "version": 3
   },
   "file_extension": ".py",
   "mimetype": "text/x-python",
   "name": "python",
   "nbconvert_exporter": "python",
   "pygments_lexer": "ipython3",
   "version": "3.7.6"
  }
 },
 "nbformat": 4,
 "nbformat_minor": 4
}
