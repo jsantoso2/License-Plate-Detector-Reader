{
 "cells": [
  {
   "cell_type": "code",
   "execution_count": 25,
   "metadata": {},
   "outputs": [],
   "source": [
    "import os\n",
    "import numpy as np\n",
    "import pandas as pd\n",
    "import random\n",
    "import shutil"
   ]
  },
  {
   "cell_type": "code",
   "execution_count": 2,
   "metadata": {},
   "outputs": [],
   "source": [
    "img_dir = os.listdir('dataset')"
   ]
  },
  {
   "cell_type": "code",
   "execution_count": 5,
   "metadata": {},
   "outputs": [],
   "source": [
    "# rename all files to image_xxx_.jpeg\n",
    "for ind, elem in enumerate(img_dir):\n",
    "    os.rename('dataset/' + elem, 'dataset/image_' + str(ind) + '.jpeg')"
   ]
  },
  {
   "cell_type": "code",
   "execution_count": 15,
   "metadata": {},
   "outputs": [],
   "source": [
    "# shuffle to make train test split\n",
    "all_img = os.listdir('dataset/')\n",
    "all_img = [i for i in all_img if '.jpeg' in i]\n",
    "\n",
    "random.seed(4)\n",
    "random.shuffle(all_img)"
   ]
  },
  {
   "cell_type": "code",
   "execution_count": 26,
   "metadata": {},
   "outputs": [],
   "source": [
    "# take 171 for validation, 1000 for training\n",
    "train = all_img[0:1000]\n",
    "val = all_img[1000:]\n",
    "\n",
    "\n",
    "# move files to appropriate location\n",
    "for elem in train:\n",
    "    shutil.move('dataset/' + elem, 'dataset/train/' + elem)\n",
    "\n",
    "for elem in val:\n",
    "    shutil.move('dataset/' + elem, 'dataset/val/' + elem)"
   ]
  },
  {
   "cell_type": "code",
   "execution_count": null,
   "metadata": {},
   "outputs": [],
   "source": []
  },
  {
   "cell_type": "code",
   "execution_count": null,
   "metadata": {},
   "outputs": [],
   "source": []
  }
 ],
 "metadata": {
  "kernelspec": {
   "display_name": "Python 3",
   "language": "python",
   "name": "python3"
  },
  "language_info": {
   "codemirror_mode": {
    "name": "ipython",
    "version": 3
   },
   "file_extension": ".py",
   "mimetype": "text/x-python",
   "name": "python",
   "nbconvert_exporter": "python",
   "pygments_lexer": "ipython3",
   "version": "3.7.6"
  }
 },
 "nbformat": 4,
 "nbformat_minor": 4
}
